{
  "nbformat": 4,
  "nbformat_minor": 0,
  "metadata": {
    "colab": {
      "provenance": [],
      "include_colab_link": true
    },
    "kernelspec": {
      "name": "python3",
      "display_name": "Python 3"
    },
    "language_info": {
      "name": "python"
    }
  },
  "cells": [
    {
      "cell_type": "markdown",
      "metadata": {
        "id": "view-in-github",
        "colab_type": "text"
      },
      "source": [
        "<a href=\"https://colab.research.google.com/github/rarenicks/tpa/blob/master/DSA_Practise.ipynb\" target=\"_parent\"><img src=\"https://colab.research.google.com/assets/colab-badge.svg\" alt=\"Open In Colab\"/></a>"
      ]
    },
    {
      "cell_type": "markdown",
      "source": [
        "***DSA with Python***"
      ],
      "metadata": {
        "id": "huOLfs4zTgSx"
      }
    },
    {
      "cell_type": "markdown",
      "source": [],
      "metadata": {
        "id": "ucJ0Hzbsr3BJ"
      }
    },
    {
      "cell_type": "code",
      "source": [
        "import time"
      ],
      "metadata": {
        "id": "kwoQki8Vr4-v"
      },
      "execution_count": 1,
      "outputs": []
    },
    {
      "cell_type": "markdown",
      "source": [
        "Accepting input integer list"
      ],
      "metadata": {
        "id": "LHqkQTz9Zn0Y"
      }
    },
    {
      "cell_type": "code",
      "source": [
        "input_list = input().split(\" \")\n",
        "for i in range(len(input_list)):\n",
        "  input_list[i] = int(input_list[i])\n",
        "\n",
        "print(input_list)\n",
        "\n",
        "# List Comprehension\n",
        "\n",
        "input_list = [int(a) for a in input().split(\" \")]\n",
        "print(input_list)\n"
      ],
      "metadata": {
        "colab": {
          "base_uri": "https://localhost:8080/"
        },
        "id": "Qp32_foeZ6Ix",
        "outputId": "afa7e6f8-7106-41f6-bd01-ddb38f51d4c8"
      },
      "execution_count": null,
      "outputs": [
        {
          "output_type": "stream",
          "name": "stdout",
          "text": [
            "1 2 3 4 5\n",
            "[1, 2, 3, 4, 5]\n",
            "1 2 3 4 5\n",
            "[1, 2, 3, 4, 5]\n"
          ]
        }
      ]
    },
    {
      "cell_type": "markdown",
      "source": [
        "# Code for sum on numbers accepted from user input"
      ],
      "metadata": {
        "id": "awbYJDSzbZaa"
      }
    },
    {
      "cell_type": "code",
      "source": [
        "# n  = int(input())\n",
        "# myList = input().split(\" \")\n",
        "# sum = 0\n",
        "# for i in range(n):\n",
        "#   sum+=int(myList[i])\n",
        "# print(sum)\n",
        "# del sum\n",
        "\n",
        "# List Comprehension\n",
        "myList = [int(a) for a in input().split(\" \")]\n",
        "print(sum(myList), type(myList))\n"
      ],
      "metadata": {
        "id": "RObH3xvNbZI7",
        "colab": {
          "base_uri": "https://localhost:8080/"
        },
        "outputId": "f87635df-fb6b-4c0e-9433-fc8da7f9d1d2"
      },
      "execution_count": null,
      "outputs": [
        {
          "output_type": "stream",
          "name": "stdout",
          "text": [
            "1 2 3 4 5\n",
            "15 <class 'list'>\n"
          ]
        }
      ]
    },
    {
      "cell_type": "markdown",
      "source": [],
      "metadata": {
        "id": "fM2BoH58elEi"
      }
    },
    {
      "cell_type": "markdown",
      "source": [
        "Mean, Median and Mode in Python input list"
      ],
      "metadata": {
        "id": "H_HNFTNwelRr"
      }
    },
    {
      "cell_type": "code",
      "source": [
        "myList = [int(a) for a in input().split(\" \")]\n",
        "print(myList)\n",
        "\n",
        "# Mean : Average of all values in the list\n",
        "mean = sum(myList)/len(myList)\n",
        "print(\"Mean : \" ,mean)\n",
        "\n",
        "# Median : Middle element\n",
        "\n",
        "if (len(myList)%2==1): #Odd\n",
        "  median=myList[len(myList)//2]\n",
        "else: # Even\n",
        "  median = (myList[len(myList)//2] + myList[len(myList)//2 - 1])/2\n",
        "\n",
        "print(\"Median : \", median)\n",
        "\n",
        "# Mode : highest frequency\n",
        "\n",
        "startTime = time.time()\n",
        "# Using Another Dict\n",
        "countDict = {}\n",
        "for i in range(len(myList)):\n",
        "  if myList[i] in countDict.keys():\n",
        "      countDict[myList[i]]+=1\n",
        "  else:\n",
        "      countDict[myList[i]] = 1\n",
        "\n",
        "mode = max(countDict, key=countDict.get)\n",
        "endTime = time.time()\n",
        "print(\"Mode : \", mode, \"Time taken :\", endTime - startTime)\n",
        "\n",
        "# Brute Force : Using two loops\n",
        "startTime = time.time()\n",
        "maxCount=0\n",
        "maxEle=myList[0]\n",
        "for curEle in myList:\n",
        "  curCount=0\n",
        "  for eachEle in myList:\n",
        "    if curEle==eachEle:\n",
        "      curCount+=1\n",
        "    if curCount > maxCount:\n",
        "      maxCount=curCount\n",
        "      maxEle=curEle\n",
        "endTime = time.time()\n",
        "\n",
        "print(\"Mode : \", maxEle, \"Time taken :\", endTime - startTime)\n",
        "\n",
        "\n",
        "# Using Single loop : require sorted array\n",
        "sortedList = sorted(myList)\n",
        "startTime = time.time()\n",
        "\n",
        "maxCount=0\n",
        "curCount=1\n",
        "maxEle=myList[0]\n",
        "\n",
        "for i in range(len(myList)-1):\n",
        "  if myList[i] == myList[i+1]: # If adjacent elements are same, increment the counter\n",
        "    curCount+=1\n",
        "  else:\n",
        "    if curCount > maxCount:\n",
        "      maxCount=curCount\n",
        "      maxEle=myList[i]\n",
        "    curCount=1\n",
        "\n",
        "if curCount>maxCount:   #Checking for last element as missed while running loop n-1 times\n",
        "    maxCount=curCount\n",
        "    maxEle=myList[-1]\n",
        "endTime = time.time()\n",
        "\n",
        "print(\"Mode : \", maxEle, \"Time taken :\", endTime - startTime)"
      ],
      "metadata": {
        "colab": {
          "base_uri": "https://localhost:8080/"
        },
        "id": "gnnrTVaFelng",
        "outputId": "346b7975-e0d4-4ef0-ddd2-c6285ece44ce"
      },
      "execution_count": null,
      "outputs": [
        {
          "output_type": "stream",
          "name": "stdout",
          "text": [
            "12 1 19 10 10 12 12 34 42 123\n",
            "[12, 1, 19, 10, 10, 12, 12, 34, 42, 123]\n",
            "Mean :  27.5\n",
            "Median :  11.0\n",
            "Mode :  12 Time taken : 0.0003294944763183594\n",
            "Mode :  12 Time taken : 0.0002913475036621094\n",
            "Mode :  10 Time taken : 0.000400543212890625\n"
          ]
        }
      ]
    },
    {
      "cell_type": "code",
      "source": [],
      "metadata": {
        "id": "zdTgs06hnpwX"
      },
      "execution_count": null,
      "outputs": []
    },
    {
      "cell_type": "markdown",
      "source": [],
      "metadata": {
        "id": "ykV6QcgvelT9"
      }
    },
    {
      "cell_type": "markdown",
      "source": [],
      "metadata": {
        "id": "TFrsnsfmelXV"
      }
    },
    {
      "cell_type": "code",
      "source": [],
      "metadata": {
        "id": "WHUaLxAtelpv"
      },
      "execution_count": null,
      "outputs": []
    },
    {
      "cell_type": "code",
      "source": [],
      "metadata": {
        "id": "IxGW2zo8eltS"
      },
      "execution_count": null,
      "outputs": []
    },
    {
      "cell_type": "markdown",
      "source": [
        "Recursion"
      ],
      "metadata": {
        "id": "xVZ1MEBbTicI"
      }
    },
    {
      "cell_type": "markdown",
      "source": [
        "Factorial with Recursion"
      ],
      "metadata": {
        "id": "mRecmPFoTifs"
      }
    },
    {
      "cell_type": "code",
      "execution_count": null,
      "metadata": {
        "colab": {
          "base_uri": "https://localhost:8080/"
        },
        "id": "JR1UlYfLTbiU",
        "outputId": "883b1600-1d28-47db-b6d0-e36a72fd3f1b"
      },
      "outputs": [
        {
          "output_type": "stream",
          "name": "stdout",
          "text": [
            "5\n",
            "120\n"
          ]
        }
      ],
      "source": [
        "def fact(n):\n",
        "  if n == 1 or n == 0:\n",
        "    return 1\n",
        "  else:\n",
        "    return n*fact(n-1)\n",
        "\n",
        "num = int(input())\n",
        "print(fact(num))"
      ]
    },
    {
      "cell_type": "markdown",
      "source": [
        "Fibonacci with Recursion"
      ],
      "metadata": {
        "id": "AjpAW5hGWPDE"
      }
    },
    {
      "cell_type": "code",
      "source": [
        "def fib(n):\n",
        "  if n == 1 or n == 0:\n",
        "    return 1\n",
        "  else:\n",
        "    return fib(n-1) + fib(n-2)\n",
        "num = int(input())\n",
        "print(fib(num))"
      ],
      "metadata": {
        "colab": {
          "base_uri": "https://localhost:8080/"
        },
        "id": "c2vn-fD-UHKU",
        "outputId": "bb7c98dc-d82e-4c1a-c65d-6a77a7b04391"
      },
      "execution_count": null,
      "outputs": [
        {
          "output_type": "stream",
          "name": "stdout",
          "text": [
            "5\n",
            "8\n"
          ]
        }
      ]
    },
    {
      "cell_type": "code",
      "source": [],
      "metadata": {
        "id": "rFoEiTNOXABN"
      },
      "execution_count": null,
      "outputs": []
    }
  ]
}